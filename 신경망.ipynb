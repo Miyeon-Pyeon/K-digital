{
 "cells": [
  {
   "cell_type": "markdown",
   "id": "a4151584",
   "metadata": {},
   "source": [
    "## ANN"
   ]
  },
  {
   "cell_type": "code",
   "execution_count": 181,
   "id": "33c71978",
   "metadata": {},
   "outputs": [],
   "source": [
    "# 패키지 및 라이브러리 불러오기\n",
    "\n",
    "import numpy as np\n",
    "import pandas as pd\n",
    "import matplotlib.pyplot as plt\n",
    "import seaborn as sns"
   ]
  },
  {
   "cell_type": "code",
   "execution_count": 182,
   "id": "c2aa4322",
   "metadata": {},
   "outputs": [],
   "source": [
    "from sklearn.model_selection import train_test_split\n",
    "from sklearn.preprocessing import OneHotEncoder\n",
    "from sklearn.compose import ColumnTransformer\n",
    "from sklearn.pipeline import Pipeline\n",
    "from sklearn.impute import SimpleImputer\n",
    "from sklearn.preprocessing import StandardScaler\n"
   ]
  },
  {
   "cell_type": "code",
   "execution_count": 183,
   "id": "83a49a3f",
   "metadata": {},
   "outputs": [],
   "source": [
    "# 데이터 가져오기\n",
    "\n",
    "df = pd.read_csv(\"./sample_data.csv\", encoding = \"cp949\")"
   ]
  },
  {
   "cell_type": "code",
   "execution_count": 184,
   "id": "59aa2619",
   "metadata": {},
   "outputs": [
    {
     "data": {
      "text/html": [
       "<div>\n",
       "<style scoped>\n",
       "    .dataframe tbody tr th:only-of-type {\n",
       "        vertical-align: middle;\n",
       "    }\n",
       "\n",
       "    .dataframe tbody tr th {\n",
       "        vertical-align: top;\n",
       "    }\n",
       "\n",
       "    .dataframe thead th {\n",
       "        text-align: right;\n",
       "    }\n",
       "</style>\n",
       "<table border=\"1\" class=\"dataframe\">\n",
       "  <thead>\n",
       "    <tr style=\"text-align: right;\">\n",
       "      <th></th>\n",
       "      <th>gender</th>\n",
       "      <th>age</th>\n",
       "      <th>address</th>\n",
       "      <th>funnel</th>\n",
       "      <th>cart_date</th>\n",
       "      <th>buy_yn</th>\n",
       "      <th>buy_date</th>\n",
       "      <th>Goods</th>\n",
       "    </tr>\n",
       "  </thead>\n",
       "  <tbody>\n",
       "    <tr>\n",
       "      <th>0</th>\n",
       "      <td>F</td>\n",
       "      <td>31</td>\n",
       "      <td>강원도 홍천군</td>\n",
       "      <td>Direct</td>\n",
       "      <td>None</td>\n",
       "      <td>N</td>\n",
       "      <td>NaN</td>\n",
       "      <td>NaN</td>\n",
       "    </tr>\n",
       "    <tr>\n",
       "      <th>1</th>\n",
       "      <td>M</td>\n",
       "      <td>48</td>\n",
       "      <td>충청남도 공주시</td>\n",
       "      <td>Direct</td>\n",
       "      <td>2022-10-09</td>\n",
       "      <td>Y</td>\n",
       "      <td>2022-10-14</td>\n",
       "      <td>T-shirt</td>\n",
       "    </tr>\n",
       "    <tr>\n",
       "      <th>2</th>\n",
       "      <td>M</td>\n",
       "      <td>41</td>\n",
       "      <td>강원도 인제군</td>\n",
       "      <td>Paid</td>\n",
       "      <td>2022-05-03</td>\n",
       "      <td>Y</td>\n",
       "      <td>2022-06-14</td>\n",
       "      <td>bottle</td>\n",
       "    </tr>\n",
       "    <tr>\n",
       "      <th>3</th>\n",
       "      <td>M</td>\n",
       "      <td>40</td>\n",
       "      <td>강원도 철원군</td>\n",
       "      <td>Paid</td>\n",
       "      <td>2022-10-26</td>\n",
       "      <td>Y</td>\n",
       "      <td>2022-11-13</td>\n",
       "      <td>bike</td>\n",
       "    </tr>\n",
       "    <tr>\n",
       "      <th>4</th>\n",
       "      <td>M</td>\n",
       "      <td>22</td>\n",
       "      <td>경기도 동두천시</td>\n",
       "      <td>Paid</td>\n",
       "      <td>None</td>\n",
       "      <td>N</td>\n",
       "      <td>NaN</td>\n",
       "      <td>NaN</td>\n",
       "    </tr>\n",
       "    <tr>\n",
       "      <th>...</th>\n",
       "      <td>...</td>\n",
       "      <td>...</td>\n",
       "      <td>...</td>\n",
       "      <td>...</td>\n",
       "      <td>...</td>\n",
       "      <td>...</td>\n",
       "      <td>...</td>\n",
       "      <td>...</td>\n",
       "    </tr>\n",
       "    <tr>\n",
       "      <th>994</th>\n",
       "      <td>F</td>\n",
       "      <td>29</td>\n",
       "      <td>경기도 의정부시</td>\n",
       "      <td>Organic</td>\n",
       "      <td>2022-04-16</td>\n",
       "      <td>Y</td>\n",
       "      <td>2022-08-18</td>\n",
       "      <td>T-shirt</td>\n",
       "    </tr>\n",
       "    <tr>\n",
       "      <th>995</th>\n",
       "      <td>F</td>\n",
       "      <td>64</td>\n",
       "      <td>충청남도 공주시</td>\n",
       "      <td>Cross</td>\n",
       "      <td>2022-03-30</td>\n",
       "      <td>Y</td>\n",
       "      <td>2022-07-06</td>\n",
       "      <td>T-shirt</td>\n",
       "    </tr>\n",
       "    <tr>\n",
       "      <th>996</th>\n",
       "      <td>M</td>\n",
       "      <td>48</td>\n",
       "      <td>부산광역시</td>\n",
       "      <td>Direct</td>\n",
       "      <td>None</td>\n",
       "      <td>N</td>\n",
       "      <td>NaN</td>\n",
       "      <td>NaN</td>\n",
       "    </tr>\n",
       "    <tr>\n",
       "      <th>997</th>\n",
       "      <td>M</td>\n",
       "      <td>37</td>\n",
       "      <td>경상남도 창녕군</td>\n",
       "      <td>Cross</td>\n",
       "      <td>None</td>\n",
       "      <td>N</td>\n",
       "      <td>NaN</td>\n",
       "      <td>NaN</td>\n",
       "    </tr>\n",
       "    <tr>\n",
       "      <th>998</th>\n",
       "      <td>M</td>\n",
       "      <td>22</td>\n",
       "      <td>전라북도 익산시</td>\n",
       "      <td>Cross</td>\n",
       "      <td>2022-05-28</td>\n",
       "      <td>Y</td>\n",
       "      <td>2022-07-10</td>\n",
       "      <td>T-shirt</td>\n",
       "    </tr>\n",
       "  </tbody>\n",
       "</table>\n",
       "<p>999 rows × 8 columns</p>\n",
       "</div>"
      ],
      "text/plain": [
       "    gender  age   address   funnel   cart_date buy_yn    buy_date    Goods\n",
       "0        F   31   강원도 홍천군   Direct        None      N         NaN      NaN\n",
       "1        M   48  충청남도 공주시   Direct  2022-10-09      Y  2022-10-14  T-shirt\n",
       "2        M   41   강원도 인제군     Paid  2022-05-03      Y  2022-06-14   bottle\n",
       "3        M   40   강원도 철원군     Paid  2022-10-26      Y  2022-11-13     bike\n",
       "4        M   22  경기도 동두천시     Paid        None      N         NaN      NaN\n",
       "..     ...  ...       ...      ...         ...    ...         ...      ...\n",
       "994      F   29  경기도 의정부시  Organic  2022-04-16      Y  2022-08-18  T-shirt\n",
       "995      F   64  충청남도 공주시    Cross  2022-03-30      Y  2022-07-06  T-shirt\n",
       "996      M   48     부산광역시   Direct        None      N         NaN      NaN\n",
       "997      M   37  경상남도 창녕군    Cross        None      N         NaN      NaN\n",
       "998      M   22  전라북도 익산시    Cross  2022-05-28      Y  2022-07-10  T-shirt\n",
       "\n",
       "[999 rows x 8 columns]"
      ]
     },
     "execution_count": 184,
     "metadata": {},
     "output_type": "execute_result"
    }
   ],
   "source": [
    "# 쓸모없는 행/열 삭제하기\n",
    "\n",
    "df.drop(['NUMBER', 'name', 'phone_num', 'email',\n",
    "        'Unnamed: 12','Unnamed: 13'], axis = 1, inplace = True)\n",
    "\n",
    "num_rows = df.shape[0]\n",
    "df.drop(num_rows - 1, axis=0, inplace=True)\n",
    "df"
   ]
  },
  {
   "cell_type": "code",
   "execution_count": 185,
   "id": "27167f81",
   "metadata": {},
   "outputs": [],
   "source": [
    "# 날짜 형식으로 변환 후 None값은 0으로 대체\n",
    "\n",
    "df['buy_date'] = pd.to_datetime(df['buy_date'], errors='coerce')\n",
    "df['cart_date'] = pd.to_datetime(df['cart_date'], errors='coerce')\n",
    "df['date_diff'] = (df['buy_date'] - df['cart_date']).dt.days\n",
    "df['date_diff'] = df['date_diff'].fillna(0).astype(int)"
   ]
  },
  {
   "cell_type": "code",
   "execution_count": 186,
   "id": "8d6480d2",
   "metadata": {},
   "outputs": [],
   "source": [
    "# 구매한 행은 1, 구매하지 않은 행은 0으로 지정한 새로운 열 생성\n",
    "\n",
    "df['buy_event'] = (df['buy_yn'] == 'Y').astype(int)"
   ]
  },
  {
   "cell_type": "code",
   "execution_count": 187,
   "id": "569fe9ac",
   "metadata": {},
   "outputs": [],
   "source": [
    "df['date_diff'] = (df['buy_date'] - df['cart_date']).dt.days\n"
   ]
  },
  {
   "cell_type": "code",
   "execution_count": 188,
   "id": "3db9deca",
   "metadata": {},
   "outputs": [],
   "source": [
    "df.drop(['cart_date', 'buy_date','address'], axis = 1, inplace = True)"
   ]
  },
  {
   "cell_type": "code",
   "execution_count": 189,
   "id": "9e85683a",
   "metadata": {},
   "outputs": [
    {
     "data": {
      "text/html": [
       "<div>\n",
       "<style scoped>\n",
       "    .dataframe tbody tr th:only-of-type {\n",
       "        vertical-align: middle;\n",
       "    }\n",
       "\n",
       "    .dataframe tbody tr th {\n",
       "        vertical-align: top;\n",
       "    }\n",
       "\n",
       "    .dataframe thead th {\n",
       "        text-align: right;\n",
       "    }\n",
       "</style>\n",
       "<table border=\"1\" class=\"dataframe\">\n",
       "  <thead>\n",
       "    <tr style=\"text-align: right;\">\n",
       "      <th></th>\n",
       "      <th>gender</th>\n",
       "      <th>age</th>\n",
       "      <th>funnel</th>\n",
       "      <th>buy_yn</th>\n",
       "      <th>Goods</th>\n",
       "      <th>date_diff</th>\n",
       "      <th>buy_event</th>\n",
       "    </tr>\n",
       "  </thead>\n",
       "  <tbody>\n",
       "    <tr>\n",
       "      <th>0</th>\n",
       "      <td>F</td>\n",
       "      <td>31</td>\n",
       "      <td>Direct</td>\n",
       "      <td>N</td>\n",
       "      <td>NaN</td>\n",
       "      <td>NaN</td>\n",
       "      <td>0</td>\n",
       "    </tr>\n",
       "    <tr>\n",
       "      <th>1</th>\n",
       "      <td>M</td>\n",
       "      <td>48</td>\n",
       "      <td>Direct</td>\n",
       "      <td>Y</td>\n",
       "      <td>T-shirt</td>\n",
       "      <td>5.0</td>\n",
       "      <td>1</td>\n",
       "    </tr>\n",
       "    <tr>\n",
       "      <th>2</th>\n",
       "      <td>M</td>\n",
       "      <td>41</td>\n",
       "      <td>Paid</td>\n",
       "      <td>Y</td>\n",
       "      <td>bottle</td>\n",
       "      <td>42.0</td>\n",
       "      <td>1</td>\n",
       "    </tr>\n",
       "    <tr>\n",
       "      <th>3</th>\n",
       "      <td>M</td>\n",
       "      <td>40</td>\n",
       "      <td>Paid</td>\n",
       "      <td>Y</td>\n",
       "      <td>bike</td>\n",
       "      <td>18.0</td>\n",
       "      <td>1</td>\n",
       "    </tr>\n",
       "    <tr>\n",
       "      <th>4</th>\n",
       "      <td>M</td>\n",
       "      <td>22</td>\n",
       "      <td>Paid</td>\n",
       "      <td>N</td>\n",
       "      <td>NaN</td>\n",
       "      <td>NaN</td>\n",
       "      <td>0</td>\n",
       "    </tr>\n",
       "    <tr>\n",
       "      <th>...</th>\n",
       "      <td>...</td>\n",
       "      <td>...</td>\n",
       "      <td>...</td>\n",
       "      <td>...</td>\n",
       "      <td>...</td>\n",
       "      <td>...</td>\n",
       "      <td>...</td>\n",
       "    </tr>\n",
       "    <tr>\n",
       "      <th>994</th>\n",
       "      <td>F</td>\n",
       "      <td>29</td>\n",
       "      <td>Organic</td>\n",
       "      <td>Y</td>\n",
       "      <td>T-shirt</td>\n",
       "      <td>124.0</td>\n",
       "      <td>1</td>\n",
       "    </tr>\n",
       "    <tr>\n",
       "      <th>995</th>\n",
       "      <td>F</td>\n",
       "      <td>64</td>\n",
       "      <td>Cross</td>\n",
       "      <td>Y</td>\n",
       "      <td>T-shirt</td>\n",
       "      <td>98.0</td>\n",
       "      <td>1</td>\n",
       "    </tr>\n",
       "    <tr>\n",
       "      <th>996</th>\n",
       "      <td>M</td>\n",
       "      <td>48</td>\n",
       "      <td>Direct</td>\n",
       "      <td>N</td>\n",
       "      <td>NaN</td>\n",
       "      <td>NaN</td>\n",
       "      <td>0</td>\n",
       "    </tr>\n",
       "    <tr>\n",
       "      <th>997</th>\n",
       "      <td>M</td>\n",
       "      <td>37</td>\n",
       "      <td>Cross</td>\n",
       "      <td>N</td>\n",
       "      <td>NaN</td>\n",
       "      <td>NaN</td>\n",
       "      <td>0</td>\n",
       "    </tr>\n",
       "    <tr>\n",
       "      <th>998</th>\n",
       "      <td>M</td>\n",
       "      <td>22</td>\n",
       "      <td>Cross</td>\n",
       "      <td>Y</td>\n",
       "      <td>T-shirt</td>\n",
       "      <td>43.0</td>\n",
       "      <td>1</td>\n",
       "    </tr>\n",
       "  </tbody>\n",
       "</table>\n",
       "<p>999 rows × 7 columns</p>\n",
       "</div>"
      ],
      "text/plain": [
       "    gender  age   funnel buy_yn    Goods  date_diff  buy_event\n",
       "0        F   31   Direct      N      NaN        NaN          0\n",
       "1        M   48   Direct      Y  T-shirt        5.0          1\n",
       "2        M   41     Paid      Y   bottle       42.0          1\n",
       "3        M   40     Paid      Y     bike       18.0          1\n",
       "4        M   22     Paid      N      NaN        NaN          0\n",
       "..     ...  ...      ...    ...      ...        ...        ...\n",
       "994      F   29  Organic      Y  T-shirt      124.0          1\n",
       "995      F   64    Cross      Y  T-shirt       98.0          1\n",
       "996      M   48   Direct      N      NaN        NaN          0\n",
       "997      M   37    Cross      N      NaN        NaN          0\n",
       "998      M   22    Cross      Y  T-shirt       43.0          1\n",
       "\n",
       "[999 rows x 7 columns]"
      ]
     },
     "execution_count": 189,
     "metadata": {},
     "output_type": "execute_result"
    }
   ],
   "source": [
    "df"
   ]
  },
  {
   "cell_type": "code",
   "execution_count": 190,
   "id": "1326184c",
   "metadata": {},
   "outputs": [],
   "source": [
    "from sklearn.preprocessing import StandardScaler, LabelEncoder"
   ]
  },
  {
   "cell_type": "code",
   "execution_count": 191,
   "id": "020d16cf",
   "metadata": {},
   "outputs": [],
   "source": [
    "# 범주형 데이터를 숫자로 변환\n",
    "label_encoder = LabelEncoder()\n",
    "df['gender'] = label_encoder.fit_transform(df['gender'])\n",
    "df['funnel'] = label_encoder.fit_transform(df['funnel'])\n",
    "df['Goods'] = label_encoder.fit_transform(df['Goods'])"
   ]
  },
  {
   "cell_type": "code",
   "execution_count": 192,
   "id": "41d75356",
   "metadata": {},
   "outputs": [],
   "source": [
    "# 레이블 인코딩\n",
    "df['buy_yn'] = label_encoder.fit_transform(df['buy_yn'])"
   ]
  },
  {
   "cell_type": "code",
   "execution_count": 193,
   "id": "769063f5",
   "metadata": {},
   "outputs": [],
   "source": [
    "# 특성과 레이블 분리\n",
    "X = df.drop(['buy_yn'], axis=1)\n",
    "y = df['buy_yn']"
   ]
  },
  {
   "cell_type": "code",
   "execution_count": 194,
   "id": "a930dbf3",
   "metadata": {},
   "outputs": [],
   "source": [
    "# 데이터 분할\n",
    "X_train, X_test, y_train, y_test = train_test_split(X, y, test_size=0.2, random_state=42)"
   ]
  },
  {
   "cell_type": "code",
   "execution_count": 195,
   "id": "762e01dd",
   "metadata": {},
   "outputs": [],
   "source": [
    "# 데이터 표준화\n",
    "scaler = StandardScaler()\n",
    "X_train_scaled = scaler.fit_transform(X_train)\n",
    "X_test_scaled = scaler.transform(X_test)"
   ]
  },
  {
   "cell_type": "code",
   "execution_count": 213,
   "id": "c10ad2ec",
   "metadata": {},
   "outputs": [],
   "source": [
    "from tensorflow import keras\n",
    "from tensorflow.keras import layers\n",
    "import tensorflow as tf"
   ]
  },
  {
   "cell_type": "code",
   "execution_count": 231,
   "id": "01f99457",
   "metadata": {},
   "outputs": [],
   "source": [
    "model = keras.Sequential([\n",
    "    layers.Dense(128, activation='relu', input_shape=(X_train_scaled.shape[1],)),\n",
    "    layers.Dense(64, activation='relu'),\n",
    "    layers.Dense(32, activation='relu'),\n",
    "    layers.Dense(1, activation='sigmoid') \n",
    "])"
   ]
  },
  {
   "cell_type": "code",
   "execution_count": 232,
   "id": "8727c825",
   "metadata": {},
   "outputs": [],
   "source": [
    "# 모델 컴파일\n",
    "model.compile(optimizer='adam', loss='binary_crossentropy', metrics=['accuracy'])"
   ]
  },
  {
   "cell_type": "code",
   "execution_count": 233,
   "id": "238f7ae1",
   "metadata": {},
   "outputs": [
    {
     "name": "stdout",
     "output_type": "stream",
     "text": [
      "gender       0\n",
      "age          0\n",
      "funnel       0\n",
      "buy_yn       0\n",
      "Goods        0\n",
      "date_diff    0\n",
      "buy_event    0\n",
      "dtype: int64\n"
     ]
    }
   ],
   "source": [
    "# NaN 값을 확인하는 코드\n",
    "print(df.isnull().sum())"
   ]
  },
  {
   "cell_type": "code",
   "execution_count": 234,
   "id": "8c809473",
   "metadata": {},
   "outputs": [],
   "source": [
    "# 'date_diff' 컬럼의 NaN 값을 0으로 대체\n",
    "df['date_diff'] = df['date_diff'].fillna(0)"
   ]
  },
  {
   "cell_type": "code",
   "execution_count": 235,
   "id": "b72f2081",
   "metadata": {},
   "outputs": [
    {
     "name": "stdout",
     "output_type": "stream",
     "text": [
      "Epoch 1/10\n",
      "20/20 [==============================] - 1s 7ms/step - loss: nan - accuracy: 0.4429 - val_loss: nan - val_accuracy: 0.3938\n",
      "Epoch 2/10\n",
      "20/20 [==============================] - 0s 2ms/step - loss: nan - accuracy: 0.4397 - val_loss: nan - val_accuracy: 0.3938\n",
      "Epoch 3/10\n",
      "20/20 [==============================] - 0s 2ms/step - loss: nan - accuracy: 0.4397 - val_loss: nan - val_accuracy: 0.3938\n",
      "Epoch 4/10\n",
      "20/20 [==============================] - 0s 2ms/step - loss: nan - accuracy: 0.4397 - val_loss: nan - val_accuracy: 0.3938\n",
      "Epoch 5/10\n",
      "20/20 [==============================] - 0s 2ms/step - loss: nan - accuracy: 0.4397 - val_loss: nan - val_accuracy: 0.3938\n",
      "Epoch 6/10\n",
      "20/20 [==============================] - 0s 2ms/step - loss: nan - accuracy: 0.4397 - val_loss: nan - val_accuracy: 0.3938\n",
      "Epoch 7/10\n",
      "20/20 [==============================] - 0s 2ms/step - loss: nan - accuracy: 0.4397 - val_loss: nan - val_accuracy: 0.3938\n",
      "Epoch 8/10\n",
      "20/20 [==============================] - 0s 2ms/step - loss: nan - accuracy: 0.4397 - val_loss: nan - val_accuracy: 0.3938\n",
      "Epoch 9/10\n",
      "20/20 [==============================] - 0s 2ms/step - loss: nan - accuracy: 0.4397 - val_loss: nan - val_accuracy: 0.3938\n",
      "Epoch 10/10\n",
      "20/20 [==============================] - 0s 2ms/step - loss: nan - accuracy: 0.4397 - val_loss: nan - val_accuracy: 0.3938\n"
     ]
    }
   ],
   "source": [
    "# 모델 학습\n",
    "history = model.fit(X_train_scaled, y_train, epochs=10, batch_size=32, validation_split=0.2)"
   ]
  },
  {
   "cell_type": "code",
   "execution_count": 236,
   "id": "d585d658",
   "metadata": {},
   "outputs": [
    {
     "name": "stdout",
     "output_type": "stream",
     "text": [
      "7/7 [==============================] - 0s 1ms/step - loss: nan - accuracy: 0.4550\n",
      "\n",
      "Test accuracy: 0.45500001311302185\n"
     ]
    }
   ],
   "source": [
    "# 모델 평가\n",
    "test_loss, test_acc = model.evaluate(X_test_scaled, y_test)\n",
    "print(f'\\nTest accuracy: {test_acc}')"
   ]
  },
  {
   "cell_type": "code",
   "execution_count": 237,
   "id": "8dc08ab0",
   "metadata": {},
   "outputs": [],
   "source": [
    "# 학습 과정에서 나오는 히스토리 객체에서 정확도와 손실 추출\n",
    "accuracy = history.history['accuracy']\n",
    "val_accuracy = history.history['val_accuracy']\n",
    "loss = history.history['loss']\n",
    "val_loss = history.history['val_loss']"
   ]
  },
  {
   "cell_type": "code",
   "execution_count": 238,
   "id": "8a42b429",
   "metadata": {},
   "outputs": [
    {
     "data": {
      "text/plain": [
       "<matplotlib.legend.Legend at 0x193cc7c8160>"
      ]
     },
     "execution_count": 238,
     "metadata": {},
     "output_type": "execute_result"
    },
    {
     "data": {
      "image/png": "[encoded data removed]",
      "text/plain": [
       "<Figure size 1200x400 with 1 Axes>"
      ]
     },
     "metadata": {},
     "output_type": "display_data"
    }
   ],
   "source": [
    "# 에폭별 정확도 그래프\n",
    "plt.figure(figsize=(12, 4))\n",
    "plt.subplot(1, 2, 1)\n",
    "plt.plot(accuracy, label='Training Accuracy')\n",
    "plt.plot(val_accuracy, label='Validation Accuracy')\n",
    "plt.title('Training and Validation Accuracy')\n",
    "plt.xlabel('Epochs')\n",
    "plt.ylabel('Accuracy')\n",
    "\n",
    "plt.legend()"
   ]
  },
  {
   "cell_type": "code",
   "execution_count": 239,
   "id": "20acc252",
   "metadata": {},
   "outputs": [
    {
     "data": {
      "image/png": "[encoded data removed]",
      "text/plain": [
       "<Figure size 640x480 with 1 Axes>"
      ]
     },
     "metadata": {},
     "output_type": "display_data"
    }
   ],
   "source": [
    "# 에폭별 손실 그래프\n",
    "plt.subplot(1, 2, 2)\n",
    "plt.plot(loss, label='Training Loss')\n",
    "plt.plot(val_loss, label='Validation Loss')\n",
    "plt.title('Training and Validation Loss')\n",
    "plt.xlabel('Epochs')\n",
    "plt.ylabel('Loss')\n",
    "plt.legend()\n",
    "\n",
    "# x 축 범위 변경 \n",
    "plt.xlim(0, 10)\n",
    "\n",
    "# y 축 범위 변경\n",
    "plt.ylim(0, 0.1)\n",
    "\n",
    "plt.show()"
   ]
  },
  {
   "cell_type": "code",
   "execution_count": null,
   "id": "211cfe15",
   "metadata": {},
   "outputs": [],
   "source": []
  },
  {
   "cell_type": "code",
   "execution_count": null,
   "id": "d25cd1b6",
   "metadata": {},
   "outputs": [],
   "source": []
  },
  {
   "cell_type": "code",
   "execution_count": null,
   "id": "f6c350ea",
   "metadata": {},
   "outputs": [],
   "source": []
  },
  {
   "cell_type": "code",
   "execution_count": null,
   "id": "bf2ccd43",
   "metadata": {},
   "outputs": [],
   "source": []
  },
  {
   "cell_type": "code",
   "execution_count": null,
   "id": "256317eb",
   "metadata": {},
   "outputs": [],
   "source": []
  }
 ],
 "metadata": {
  "kernelspec": {
   "display_name": "Python 3 (ipykernel)",
   "language": "python",
   "name": "python3"
  },
  "language_info": {
   "codemirror_mode": {
    "name": "ipython",
    "version": 3
   },
   "file_extension": ".py",
   "mimetype": "text/x-python",
   "name": "python",
   "nbconvert_exporter": "python",
   "pygments_lexer": "ipython3",
   "version": "3.10.9"
  }
 },
 "nbformat": 4,
 "nbformat_minor": 5
}
